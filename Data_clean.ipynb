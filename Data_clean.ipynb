{
 "cells": [
  {
   "cell_type": "code",
   "execution_count": 2,
   "metadata": {},
   "outputs": [],
   "source": [
    "import pandas as pd\n",
    "import numpy as np\n",
    "from datetime import datetime"
   ]
  },
  {
   "cell_type": "markdown",
   "metadata": {},
   "source": [
    "### Import Data"
   ]
  },
  {
   "cell_type": "code",
   "execution_count": 3,
   "metadata": {},
   "outputs": [],
   "source": [
    "crime_df = pd.read_csv('Chicago_Crimes_2012_to_2017.csv')\n",
    "rest_df = pd.read_csv('Food_Inspections.csv')"
   ]
  },
  {
   "cell_type": "markdown",
   "metadata": {},
   "source": [
    "### Remove NA"
   ]
  },
  {
   "cell_type": "code",
   "execution_count": 4,
   "metadata": {},
   "outputs": [
    {
     "data": {
      "text/plain": [
       "Inspection ID          0\n",
       "DBA Name               2\n",
       "AKA Name            2481\n",
       "License #             17\n",
       "Facility Type       4913\n",
       "Risk                  71\n",
       "Address                0\n",
       "City                 167\n",
       "State                 55\n",
       "Zip                   52\n",
       "Inspection Date        0\n",
       "Inspection Type        1\n",
       "Results                0\n",
       "Violations         59251\n",
       "Latitude             756\n",
       "Longitude            756\n",
       "Location             756\n",
       "dtype: int64"
      ]
     },
     "execution_count": 4,
     "metadata": {},
     "output_type": "execute_result"
    }
   ],
   "source": [
    "rest_df.isna().sum()"
   ]
  },
  {
   "cell_type": "code",
   "execution_count": 5,
   "metadata": {},
   "outputs": [
    {
     "data": {
      "text/html": [
       "<div>\n",
       "<style scoped>\n",
       "    .dataframe tbody tr th:only-of-type {\n",
       "        vertical-align: middle;\n",
       "    }\n",
       "\n",
       "    .dataframe tbody tr th {\n",
       "        vertical-align: top;\n",
       "    }\n",
       "\n",
       "    .dataframe thead th {\n",
       "        text-align: right;\n",
       "    }\n",
       "</style>\n",
       "<table border=\"1\" class=\"dataframe\">\n",
       "  <thead>\n",
       "    <tr style=\"text-align: right;\">\n",
       "      <th></th>\n",
       "      <th>Inspection ID</th>\n",
       "      <th>DBA Name</th>\n",
       "      <th>AKA Name</th>\n",
       "      <th>License #</th>\n",
       "      <th>Facility Type</th>\n",
       "      <th>Risk</th>\n",
       "      <th>Address</th>\n",
       "      <th>City</th>\n",
       "      <th>State</th>\n",
       "      <th>Zip</th>\n",
       "      <th>Inspection Date</th>\n",
       "      <th>Inspection Type</th>\n",
       "      <th>Results</th>\n",
       "      <th>Violations</th>\n",
       "      <th>Latitude</th>\n",
       "      <th>Longitude</th>\n",
       "      <th>Location</th>\n",
       "    </tr>\n",
       "  </thead>\n",
       "  <tbody>\n",
       "    <tr>\n",
       "      <th>15</th>\n",
       "      <td>2453719</td>\n",
       "      <td>LAS ISLAS MARIAS</td>\n",
       "      <td>LAS ISLAS MARIAS</td>\n",
       "      <td>1095992.0</td>\n",
       "      <td>Restaurant</td>\n",
       "      <td>Risk 1 (High)</td>\n",
       "      <td>4770 W GRAND AVE</td>\n",
       "      <td>CHICAGO</td>\n",
       "      <td>IL</td>\n",
       "      <td>60639.0</td>\n",
       "      <td>10/22/2020</td>\n",
       "      <td>Complaint</td>\n",
       "      <td>Fail</td>\n",
       "      <td>3. MANAGEMENT, FOOD EMPLOYEE AND CONDITIONAL E...</td>\n",
       "      <td>41.913999</td>\n",
       "      <td>-87.745864</td>\n",
       "      <td>(-87.74586369218258, 41.91399920930635)</td>\n",
       "    </tr>\n",
       "    <tr>\n",
       "      <th>20</th>\n",
       "      <td>2401734</td>\n",
       "      <td>J. L. LOUNGE</td>\n",
       "      <td>J. L. LOUNGE</td>\n",
       "      <td>2749790.0</td>\n",
       "      <td>Restaurant</td>\n",
       "      <td>Risk 2 (Medium)</td>\n",
       "      <td>3402 N CICERO AVE</td>\n",
       "      <td>CHICAGO</td>\n",
       "      <td>IL</td>\n",
       "      <td>60641.0</td>\n",
       "      <td>09/28/2020</td>\n",
       "      <td>License</td>\n",
       "      <td>Fail</td>\n",
       "      <td>2. CITY OF CHICAGO FOOD SERVICE SANITATION CER...</td>\n",
       "      <td>41.942579</td>\n",
       "      <td>-87.747114</td>\n",
       "      <td>(-87.74711430949259, 41.94257857369689)</td>\n",
       "    </tr>\n",
       "    <tr>\n",
       "      <th>24</th>\n",
       "      <td>2387078</td>\n",
       "      <td>DINNER AND A MOVIE</td>\n",
       "      <td>DINNER AND A MOVIE</td>\n",
       "      <td>2749481.0</td>\n",
       "      <td>Restaurant</td>\n",
       "      <td>Risk 1 (High)</td>\n",
       "      <td>2500 N ASHLAND AVE</td>\n",
       "      <td>CHICAGO</td>\n",
       "      <td>IL</td>\n",
       "      <td>60614.0</td>\n",
       "      <td>09/11/2020</td>\n",
       "      <td>License</td>\n",
       "      <td>Fail</td>\n",
       "      <td>3. MANAGEMENT, FOOD EMPLOYEE AND CONDITIONAL E...</td>\n",
       "      <td>41.927051</td>\n",
       "      <td>-87.668359</td>\n",
       "      <td>(-87.66835947589291, 41.92705136177427)</td>\n",
       "    </tr>\n",
       "    <tr>\n",
       "      <th>34</th>\n",
       "      <td>2385566</td>\n",
       "      <td>JOONG BOO MARKET</td>\n",
       "      <td>JOONG BOO MARKET</td>\n",
       "      <td>28024.0</td>\n",
       "      <td>Grocery Store</td>\n",
       "      <td>Risk 1 (High)</td>\n",
       "      <td>3333 N KIMBALL AVE</td>\n",
       "      <td>CHICAGO</td>\n",
       "      <td>IL</td>\n",
       "      <td>60618.0</td>\n",
       "      <td>07/30/2020</td>\n",
       "      <td>Complaint</td>\n",
       "      <td>Fail</td>\n",
       "      <td>15. FOOD SEPARATED AND PROTECTED - Comments: O...</td>\n",
       "      <td>41.942154</td>\n",
       "      <td>-87.712446</td>\n",
       "      <td>(-87.71244601758664, 41.94215358561294)</td>\n",
       "    </tr>\n",
       "    <tr>\n",
       "      <th>42</th>\n",
       "      <td>2382319</td>\n",
       "      <td>McDonald's</td>\n",
       "      <td>McDonald's</td>\n",
       "      <td>1985411.0</td>\n",
       "      <td>Restaurant</td>\n",
       "      <td>Risk 2 (Medium)</td>\n",
       "      <td>300 N Wells ST</td>\n",
       "      <td>CHICAGO</td>\n",
       "      <td>IL</td>\n",
       "      <td>60654.0</td>\n",
       "      <td>06/26/2020</td>\n",
       "      <td>Canvass</td>\n",
       "      <td>Pass</td>\n",
       "      <td>55. PHYSICAL FACILITIES INSTALLED, MAINTAINED ...</td>\n",
       "      <td>41.887556</td>\n",
       "      <td>-87.634118</td>\n",
       "      <td>(-87.63411765750247, 41.88755591037034)</td>\n",
       "    </tr>\n",
       "  </tbody>\n",
       "</table>\n",
       "</div>"
      ],
      "text/plain": [
       "    Inspection ID            DBA Name            AKA Name  License #  \\\n",
       "15        2453719    LAS ISLAS MARIAS    LAS ISLAS MARIAS  1095992.0   \n",
       "20        2401734        J. L. LOUNGE        J. L. LOUNGE  2749790.0   \n",
       "24        2387078  DINNER AND A MOVIE  DINNER AND A MOVIE  2749481.0   \n",
       "34        2385566    JOONG BOO MARKET    JOONG BOO MARKET    28024.0   \n",
       "42        2382319          McDonald's          McDonald's  1985411.0   \n",
       "\n",
       "    Facility Type             Risk              Address     City State  \\\n",
       "15     Restaurant    Risk 1 (High)    4770 W GRAND AVE   CHICAGO    IL   \n",
       "20     Restaurant  Risk 2 (Medium)   3402 N CICERO AVE   CHICAGO    IL   \n",
       "24     Restaurant    Risk 1 (High)  2500 N ASHLAND AVE   CHICAGO    IL   \n",
       "34  Grocery Store    Risk 1 (High)  3333 N KIMBALL AVE   CHICAGO    IL   \n",
       "42     Restaurant  Risk 2 (Medium)      300 N Wells ST   CHICAGO    IL   \n",
       "\n",
       "        Zip Inspection Date Inspection Type Results  \\\n",
       "15  60639.0      10/22/2020       Complaint    Fail   \n",
       "20  60641.0      09/28/2020         License    Fail   \n",
       "24  60614.0      09/11/2020         License    Fail   \n",
       "34  60618.0      07/30/2020       Complaint    Fail   \n",
       "42  60654.0      06/26/2020         Canvass    Pass   \n",
       "\n",
       "                                           Violations   Latitude  Longitude  \\\n",
       "15  3. MANAGEMENT, FOOD EMPLOYEE AND CONDITIONAL E...  41.913999 -87.745864   \n",
       "20  2. CITY OF CHICAGO FOOD SERVICE SANITATION CER...  41.942579 -87.747114   \n",
       "24  3. MANAGEMENT, FOOD EMPLOYEE AND CONDITIONAL E...  41.927051 -87.668359   \n",
       "34  15. FOOD SEPARATED AND PROTECTED - Comments: O...  41.942154 -87.712446   \n",
       "42  55. PHYSICAL FACILITIES INSTALLED, MAINTAINED ...  41.887556 -87.634118   \n",
       "\n",
       "                                   Location  \n",
       "15  (-87.74586369218258, 41.91399920930635)  \n",
       "20  (-87.74711430949259, 41.94257857369689)  \n",
       "24  (-87.66835947589291, 41.92705136177427)  \n",
       "34  (-87.71244601758664, 41.94215358561294)  \n",
       "42  (-87.63411765750247, 41.88755591037034)  "
      ]
     },
     "execution_count": 5,
     "metadata": {},
     "output_type": "execute_result"
    }
   ],
   "source": [
    "rest_df.dropna(inplace=True)\n",
    "rest_df.head(5)"
   ]
  },
  {
   "cell_type": "code",
   "execution_count": 6,
   "metadata": {},
   "outputs": [
    {
     "data": {
      "text/plain": [
       "Unnamed: 0                  0\n",
       "ID                          0\n",
       "Case Number                 1\n",
       "Date                        0\n",
       "Block                       0\n",
       "IUCR                        0\n",
       "Primary Type                0\n",
       "Description                 0\n",
       "Location Description     1658\n",
       "Arrest                      0\n",
       "Domestic                    0\n",
       "Beat                        0\n",
       "District                    1\n",
       "Ward                       14\n",
       "Community Area             40\n",
       "FBI Code                    0\n",
       "X Coordinate            37083\n",
       "Y Coordinate            37083\n",
       "Year                        0\n",
       "Updated On                  0\n",
       "Latitude                37083\n",
       "Longitude               37083\n",
       "Location                37083\n",
       "dtype: int64"
      ]
     },
     "execution_count": 6,
     "metadata": {},
     "output_type": "execute_result"
    }
   ],
   "source": [
    "crime_df.isna().sum()"
   ]
  },
  {
   "cell_type": "code",
   "execution_count": 7,
   "metadata": {},
   "outputs": [],
   "source": [
    "crime_df.dropna(inplace=True)"
   ]
  },
  {
   "cell_type": "code",
   "execution_count": 8,
   "metadata": {},
   "outputs": [],
   "source": [
    "crime_df.drop('Unnamed: 0', axis=1, inplace=True)"
   ]
  },
  {
   "cell_type": "markdown",
   "metadata": {},
   "source": [
    "### Split restaurant data"
   ]
  },
  {
   "cell_type": "code",
   "execution_count": 9,
   "metadata": {},
   "outputs": [],
   "source": [
    "rest_df['Inspection Date'] = pd.to_datetime(rest_df['Inspection Date']).dt.strftime('%Y-%m-%d')"
   ]
  },
  {
   "cell_type": "code",
   "execution_count": 10,
   "metadata": {},
   "outputs": [],
   "source": [
    "rest_df.drop(rest_df[rest_df['Inspection Date'].str.contains('2010') \n",
    "| rest_df['Inspection Date'].str.contains('2011')].index, inplace=True)"
   ]
  },
  {
   "cell_type": "code",
   "execution_count": 11,
   "metadata": {},
   "outputs": [],
   "source": [
    "df_unique = rest_df.drop_duplicates(subset=['Location'])"
   ]
  },
  {
   "cell_type": "code",
   "execution_count": 12,
   "metadata": {},
   "outputs": [
    {
     "data": {
      "text/plain": [
       "(14905, 134817)"
      ]
     },
     "execution_count": 12,
     "metadata": {},
     "output_type": "execute_result"
    }
   ],
   "source": [
    "len(df_unique), len(rest_df)"
   ]
  },
  {
   "cell_type": "code",
   "execution_count": 13,
   "metadata": {},
   "outputs": [],
   "source": [
    "df_unique = df_unique.reset_index(drop=True)\n",
    "df_unique = df_unique.reset_index() \n",
    "rest_unique = df_unique.rename(columns={'index': 'ID'})"
   ]
  },
  {
   "cell_type": "code",
   "execution_count": 14,
   "metadata": {},
   "outputs": [
    {
     "data": {
      "text/html": [
       "<div>\n",
       "<style scoped>\n",
       "    .dataframe tbody tr th:only-of-type {\n",
       "        vertical-align: middle;\n",
       "    }\n",
       "\n",
       "    .dataframe tbody tr th {\n",
       "        vertical-align: top;\n",
       "    }\n",
       "\n",
       "    .dataframe thead th {\n",
       "        text-align: right;\n",
       "    }\n",
       "</style>\n",
       "<table border=\"1\" class=\"dataframe\">\n",
       "  <thead>\n",
       "    <tr style=\"text-align: right;\">\n",
       "      <th></th>\n",
       "      <th>ID</th>\n",
       "      <th>Inspection ID</th>\n",
       "      <th>DBA Name</th>\n",
       "      <th>AKA Name</th>\n",
       "      <th>License #</th>\n",
       "      <th>Facility Type</th>\n",
       "      <th>Risk</th>\n",
       "      <th>Address</th>\n",
       "      <th>City</th>\n",
       "      <th>State</th>\n",
       "      <th>Zip</th>\n",
       "      <th>Inspection Date</th>\n",
       "      <th>Inspection Type</th>\n",
       "      <th>Results</th>\n",
       "      <th>Violations</th>\n",
       "      <th>Latitude</th>\n",
       "      <th>Longitude</th>\n",
       "      <th>Location</th>\n",
       "    </tr>\n",
       "  </thead>\n",
       "  <tbody>\n",
       "    <tr>\n",
       "      <th>0</th>\n",
       "      <td>0</td>\n",
       "      <td>2453719</td>\n",
       "      <td>LAS ISLAS MARIAS</td>\n",
       "      <td>LAS ISLAS MARIAS</td>\n",
       "      <td>1095992.0</td>\n",
       "      <td>Restaurant</td>\n",
       "      <td>Risk 1 (High)</td>\n",
       "      <td>4770 W GRAND AVE</td>\n",
       "      <td>CHICAGO</td>\n",
       "      <td>IL</td>\n",
       "      <td>60639.0</td>\n",
       "      <td>2020-10-22</td>\n",
       "      <td>Complaint</td>\n",
       "      <td>Fail</td>\n",
       "      <td>3. MANAGEMENT, FOOD EMPLOYEE AND CONDITIONAL E...</td>\n",
       "      <td>41.913999</td>\n",
       "      <td>-87.745864</td>\n",
       "      <td>(-87.74586369218258, 41.91399920930635)</td>\n",
       "    </tr>\n",
       "    <tr>\n",
       "      <th>1</th>\n",
       "      <td>1</td>\n",
       "      <td>2401734</td>\n",
       "      <td>J. L. LOUNGE</td>\n",
       "      <td>J. L. LOUNGE</td>\n",
       "      <td>2749790.0</td>\n",
       "      <td>Restaurant</td>\n",
       "      <td>Risk 2 (Medium)</td>\n",
       "      <td>3402 N CICERO AVE</td>\n",
       "      <td>CHICAGO</td>\n",
       "      <td>IL</td>\n",
       "      <td>60641.0</td>\n",
       "      <td>2020-09-28</td>\n",
       "      <td>License</td>\n",
       "      <td>Fail</td>\n",
       "      <td>2. CITY OF CHICAGO FOOD SERVICE SANITATION CER...</td>\n",
       "      <td>41.942579</td>\n",
       "      <td>-87.747114</td>\n",
       "      <td>(-87.74711430949259, 41.94257857369689)</td>\n",
       "    </tr>\n",
       "    <tr>\n",
       "      <th>2</th>\n",
       "      <td>2</td>\n",
       "      <td>2387078</td>\n",
       "      <td>DINNER AND A MOVIE</td>\n",
       "      <td>DINNER AND A MOVIE</td>\n",
       "      <td>2749481.0</td>\n",
       "      <td>Restaurant</td>\n",
       "      <td>Risk 1 (High)</td>\n",
       "      <td>2500 N ASHLAND AVE</td>\n",
       "      <td>CHICAGO</td>\n",
       "      <td>IL</td>\n",
       "      <td>60614.0</td>\n",
       "      <td>2020-09-11</td>\n",
       "      <td>License</td>\n",
       "      <td>Fail</td>\n",
       "      <td>3. MANAGEMENT, FOOD EMPLOYEE AND CONDITIONAL E...</td>\n",
       "      <td>41.927051</td>\n",
       "      <td>-87.668359</td>\n",
       "      <td>(-87.66835947589291, 41.92705136177427)</td>\n",
       "    </tr>\n",
       "    <tr>\n",
       "      <th>3</th>\n",
       "      <td>3</td>\n",
       "      <td>2385566</td>\n",
       "      <td>JOONG BOO MARKET</td>\n",
       "      <td>JOONG BOO MARKET</td>\n",
       "      <td>28024.0</td>\n",
       "      <td>Grocery Store</td>\n",
       "      <td>Risk 1 (High)</td>\n",
       "      <td>3333 N KIMBALL AVE</td>\n",
       "      <td>CHICAGO</td>\n",
       "      <td>IL</td>\n",
       "      <td>60618.0</td>\n",
       "      <td>2020-07-30</td>\n",
       "      <td>Complaint</td>\n",
       "      <td>Fail</td>\n",
       "      <td>15. FOOD SEPARATED AND PROTECTED - Comments: O...</td>\n",
       "      <td>41.942154</td>\n",
       "      <td>-87.712446</td>\n",
       "      <td>(-87.71244601758664, 41.94215358561294)</td>\n",
       "    </tr>\n",
       "    <tr>\n",
       "      <th>4</th>\n",
       "      <td>4</td>\n",
       "      <td>2382319</td>\n",
       "      <td>McDonald's</td>\n",
       "      <td>McDonald's</td>\n",
       "      <td>1985411.0</td>\n",
       "      <td>Restaurant</td>\n",
       "      <td>Risk 2 (Medium)</td>\n",
       "      <td>300 N Wells ST</td>\n",
       "      <td>CHICAGO</td>\n",
       "      <td>IL</td>\n",
       "      <td>60654.0</td>\n",
       "      <td>2020-06-26</td>\n",
       "      <td>Canvass</td>\n",
       "      <td>Pass</td>\n",
       "      <td>55. PHYSICAL FACILITIES INSTALLED, MAINTAINED ...</td>\n",
       "      <td>41.887556</td>\n",
       "      <td>-87.634118</td>\n",
       "      <td>(-87.63411765750247, 41.88755591037034)</td>\n",
       "    </tr>\n",
       "    <tr>\n",
       "      <th>...</th>\n",
       "      <td>...</td>\n",
       "      <td>...</td>\n",
       "      <td>...</td>\n",
       "      <td>...</td>\n",
       "      <td>...</td>\n",
       "      <td>...</td>\n",
       "      <td>...</td>\n",
       "      <td>...</td>\n",
       "      <td>...</td>\n",
       "      <td>...</td>\n",
       "      <td>...</td>\n",
       "      <td>...</td>\n",
       "      <td>...</td>\n",
       "      <td>...</td>\n",
       "      <td>...</td>\n",
       "      <td>...</td>\n",
       "      <td>...</td>\n",
       "      <td>...</td>\n",
       "    </tr>\n",
       "    <tr>\n",
       "      <th>14900</th>\n",
       "      <td>14900</td>\n",
       "      <td>626348</td>\n",
       "      <td>JAYS SNACK</td>\n",
       "      <td>JAYS SNACK</td>\n",
       "      <td>1495613.0</td>\n",
       "      <td>Restaurant</td>\n",
       "      <td>Risk 2 (Medium)</td>\n",
       "      <td>3973 W MADISON ST</td>\n",
       "      <td>CHICAGO</td>\n",
       "      <td>IL</td>\n",
       "      <td>60624.0</td>\n",
       "      <td>2012-01-03</td>\n",
       "      <td>Canvass</td>\n",
       "      <td>Pass</td>\n",
       "      <td>34. FLOORS: CONSTRUCTED PER CODE, CLEANED, GOO...</td>\n",
       "      <td>41.880626</td>\n",
       "      <td>-87.725112</td>\n",
       "      <td>(-87.72511153875485, 41.880626276535786)</td>\n",
       "    </tr>\n",
       "    <tr>\n",
       "      <th>14901</th>\n",
       "      <td>14901</td>\n",
       "      <td>664373</td>\n",
       "      <td>ALL THE BEST NUTRITION</td>\n",
       "      <td>ALL THE BEST NUTRITION</td>\n",
       "      <td>1221402.0</td>\n",
       "      <td>Grocery Store</td>\n",
       "      <td>Risk 3 (Low)</td>\n",
       "      <td>3008 W DEVON AVE</td>\n",
       "      <td>CHICAGO</td>\n",
       "      <td>IL</td>\n",
       "      <td>60659.0</td>\n",
       "      <td>2012-02-03</td>\n",
       "      <td>Canvass</td>\n",
       "      <td>Fail</td>\n",
       "      <td>13. NO EVIDENCE OF RODENT OR INSECT INFESTATIO...</td>\n",
       "      <td>41.997578</td>\n",
       "      <td>-87.704917</td>\n",
       "      <td>(-87.70491683796463, 41.99757797685146)</td>\n",
       "    </tr>\n",
       "    <tr>\n",
       "      <th>14902</th>\n",
       "      <td>14902</td>\n",
       "      <td>577804</td>\n",
       "      <td>WALGREEN #5724</td>\n",
       "      <td>WALGREEN #5724</td>\n",
       "      <td>1331165.0</td>\n",
       "      <td>Grocery Store</td>\n",
       "      <td>Risk 3 (Low)</td>\n",
       "      <td>7045 S PULASKI RD</td>\n",
       "      <td>CHICAGO</td>\n",
       "      <td>IL</td>\n",
       "      <td>60629.0</td>\n",
       "      <td>2012-02-06</td>\n",
       "      <td>Canvass</td>\n",
       "      <td>Pass</td>\n",
       "      <td>33. FOOD AND NON-FOOD CONTACT EQUIPMENT UTENSI...</td>\n",
       "      <td>41.764590</td>\n",
       "      <td>-87.722240</td>\n",
       "      <td>(-87.7222396042944, 41.764589609122154)</td>\n",
       "    </tr>\n",
       "    <tr>\n",
       "      <th>14903</th>\n",
       "      <td>14903</td>\n",
       "      <td>522010</td>\n",
       "      <td>LA FINCA, INC.</td>\n",
       "      <td>LA FINCA MEXICAN CUISINE</td>\n",
       "      <td>27437.0</td>\n",
       "      <td>Restaurant</td>\n",
       "      <td>Risk 1 (High)</td>\n",
       "      <td>3361 N ELSTON AVE</td>\n",
       "      <td>CHICAGO</td>\n",
       "      <td>IL</td>\n",
       "      <td>60618.0</td>\n",
       "      <td>2012-02-07</td>\n",
       "      <td>Canvass</td>\n",
       "      <td>Pass w/ Conditions</td>\n",
       "      <td>11. ADEQUATE NUMBER, CONVENIENT, ACCESSIBLE, D...</td>\n",
       "      <td>41.942659</td>\n",
       "      <td>-87.702854</td>\n",
       "      <td>(-87.70285405070436, 41.94265870719322)</td>\n",
       "    </tr>\n",
       "    <tr>\n",
       "      <th>14904</th>\n",
       "      <td>14904</td>\n",
       "      <td>659969</td>\n",
       "      <td>OLD TOWN SCHOOL OF FOLK MUSIC</td>\n",
       "      <td>OLD TOWN SCHOOL OF FOLK MUSIC</td>\n",
       "      <td>2098166.0</td>\n",
       "      <td>Liquor</td>\n",
       "      <td>Risk 3 (Low)</td>\n",
       "      <td>4543-4551 N LINCOLN AVE</td>\n",
       "      <td>CHICAGO</td>\n",
       "      <td>IL</td>\n",
       "      <td>60625.0</td>\n",
       "      <td>2012-01-12</td>\n",
       "      <td>License</td>\n",
       "      <td>Fail</td>\n",
       "      <td>11. ADEQUATE NUMBER, CONVENIENT, ACCESSIBLE, D...</td>\n",
       "      <td>41.964372</td>\n",
       "      <td>-87.685607</td>\n",
       "      <td>(-87.68560704977685, 41.964372388216674)</td>\n",
       "    </tr>\n",
       "  </tbody>\n",
       "</table>\n",
       "<p>14905 rows × 18 columns</p>\n",
       "</div>"
      ],
      "text/plain": [
       "          ID  Inspection ID                       DBA Name  \\\n",
       "0          0        2453719               LAS ISLAS MARIAS   \n",
       "1          1        2401734                   J. L. LOUNGE   \n",
       "2          2        2387078             DINNER AND A MOVIE   \n",
       "3          3        2385566               JOONG BOO MARKET   \n",
       "4          4        2382319                     McDonald's   \n",
       "...      ...            ...                            ...   \n",
       "14900  14900         626348                     JAYS SNACK   \n",
       "14901  14901         664373         ALL THE BEST NUTRITION   \n",
       "14902  14902         577804                 WALGREEN #5724   \n",
       "14903  14903         522010                 LA FINCA, INC.   \n",
       "14904  14904         659969  OLD TOWN SCHOOL OF FOLK MUSIC   \n",
       "\n",
       "                            AKA Name  License #  Facility Type  \\\n",
       "0                   LAS ISLAS MARIAS  1095992.0     Restaurant   \n",
       "1                       J. L. LOUNGE  2749790.0     Restaurant   \n",
       "2                 DINNER AND A MOVIE  2749481.0     Restaurant   \n",
       "3                   JOONG BOO MARKET    28024.0  Grocery Store   \n",
       "4                         McDonald's  1985411.0     Restaurant   \n",
       "...                              ...        ...            ...   \n",
       "14900                     JAYS SNACK  1495613.0     Restaurant   \n",
       "14901         ALL THE BEST NUTRITION  1221402.0  Grocery Store   \n",
       "14902                 WALGREEN #5724  1331165.0  Grocery Store   \n",
       "14903       LA FINCA MEXICAN CUISINE    27437.0     Restaurant   \n",
       "14904  OLD TOWN SCHOOL OF FOLK MUSIC  2098166.0         Liquor   \n",
       "\n",
       "                  Risk                   Address     City State      Zip  \\\n",
       "0        Risk 1 (High)         4770 W GRAND AVE   CHICAGO    IL  60639.0   \n",
       "1      Risk 2 (Medium)        3402 N CICERO AVE   CHICAGO    IL  60641.0   \n",
       "2        Risk 1 (High)       2500 N ASHLAND AVE   CHICAGO    IL  60614.0   \n",
       "3        Risk 1 (High)       3333 N KIMBALL AVE   CHICAGO    IL  60618.0   \n",
       "4      Risk 2 (Medium)           300 N Wells ST   CHICAGO    IL  60654.0   \n",
       "...                ...                       ...      ...   ...      ...   \n",
       "14900  Risk 2 (Medium)        3973 W MADISON ST   CHICAGO    IL  60624.0   \n",
       "14901     Risk 3 (Low)         3008 W DEVON AVE   CHICAGO    IL  60659.0   \n",
       "14902     Risk 3 (Low)        7045 S PULASKI RD   CHICAGO    IL  60629.0   \n",
       "14903    Risk 1 (High)        3361 N ELSTON AVE   CHICAGO    IL  60618.0   \n",
       "14904     Risk 3 (Low)  4543-4551 N LINCOLN AVE   CHICAGO    IL  60625.0   \n",
       "\n",
       "      Inspection Date Inspection Type             Results  \\\n",
       "0          2020-10-22       Complaint                Fail   \n",
       "1          2020-09-28         License                Fail   \n",
       "2          2020-09-11         License                Fail   \n",
       "3          2020-07-30       Complaint                Fail   \n",
       "4          2020-06-26         Canvass                Pass   \n",
       "...               ...             ...                 ...   \n",
       "14900      2012-01-03         Canvass                Pass   \n",
       "14901      2012-02-03         Canvass                Fail   \n",
       "14902      2012-02-06         Canvass                Pass   \n",
       "14903      2012-02-07         Canvass  Pass w/ Conditions   \n",
       "14904      2012-01-12         License                Fail   \n",
       "\n",
       "                                              Violations   Latitude  \\\n",
       "0      3. MANAGEMENT, FOOD EMPLOYEE AND CONDITIONAL E...  41.913999   \n",
       "1      2. CITY OF CHICAGO FOOD SERVICE SANITATION CER...  41.942579   \n",
       "2      3. MANAGEMENT, FOOD EMPLOYEE AND CONDITIONAL E...  41.927051   \n",
       "3      15. FOOD SEPARATED AND PROTECTED - Comments: O...  41.942154   \n",
       "4      55. PHYSICAL FACILITIES INSTALLED, MAINTAINED ...  41.887556   \n",
       "...                                                  ...        ...   \n",
       "14900  34. FLOORS: CONSTRUCTED PER CODE, CLEANED, GOO...  41.880626   \n",
       "14901  13. NO EVIDENCE OF RODENT OR INSECT INFESTATIO...  41.997578   \n",
       "14902  33. FOOD AND NON-FOOD CONTACT EQUIPMENT UTENSI...  41.764590   \n",
       "14903  11. ADEQUATE NUMBER, CONVENIENT, ACCESSIBLE, D...  41.942659   \n",
       "14904  11. ADEQUATE NUMBER, CONVENIENT, ACCESSIBLE, D...  41.964372   \n",
       "\n",
       "       Longitude                                  Location  \n",
       "0     -87.745864   (-87.74586369218258, 41.91399920930635)  \n",
       "1     -87.747114   (-87.74711430949259, 41.94257857369689)  \n",
       "2     -87.668359   (-87.66835947589291, 41.92705136177427)  \n",
       "3     -87.712446   (-87.71244601758664, 41.94215358561294)  \n",
       "4     -87.634118   (-87.63411765750247, 41.88755591037034)  \n",
       "...          ...                                       ...  \n",
       "14900 -87.725112  (-87.72511153875485, 41.880626276535786)  \n",
       "14901 -87.704917   (-87.70491683796463, 41.99757797685146)  \n",
       "14902 -87.722240   (-87.7222396042944, 41.764589609122154)  \n",
       "14903 -87.702854   (-87.70285405070436, 41.94265870719322)  \n",
       "14904 -87.685607  (-87.68560704977685, 41.964372388216674)  \n",
       "\n",
       "[14905 rows x 18 columns]"
      ]
     },
     "execution_count": 14,
     "metadata": {},
     "output_type": "execute_result"
    }
   ],
   "source": [
    "rest_unique"
   ]
  },
  {
   "cell_type": "code",
   "execution_count": 15,
   "metadata": {},
   "outputs": [],
   "source": [
    "#Combine new index to the original dataframe\n",
    "rest_df = rest_df.merge(rest_unique[['ID','Address']], on='Address')"
   ]
  },
  {
   "cell_type": "markdown",
   "metadata": {},
   "source": [
    "### Check crime data"
   ]
  },
  {
   "cell_type": "code",
   "execution_count": 16,
   "metadata": {},
   "outputs": [
    {
     "data": {
      "text/plain": [
       "Index(['ID', 'Case Number', 'Date', 'Block', 'IUCR', 'Primary Type',\n",
       "       'Description', 'Location Description', 'Arrest', 'Domestic', 'Beat',\n",
       "       'District', 'Ward', 'Community Area', 'FBI Code', 'X Coordinate',\n",
       "       'Y Coordinate', 'Year', 'Updated On', 'Latitude', 'Longitude',\n",
       "       'Location'],\n",
       "      dtype='object')"
      ]
     },
     "execution_count": 16,
     "metadata": {},
     "output_type": "execute_result"
    }
   ],
   "source": [
    "crime_df.columns"
   ]
  },
  {
   "cell_type": "code",
   "execution_count": 17,
   "metadata": {},
   "outputs": [
    {
     "data": {
      "text/plain": [
       "140"
      ]
     },
     "execution_count": 17,
     "metadata": {},
     "output_type": "execute_result"
    }
   ],
   "source": [
    "crime_df['Location Description'].value_counts().count()"
   ]
  },
  {
   "cell_type": "code",
   "execution_count": 18,
   "metadata": {},
   "outputs": [
    {
     "name": "stderr",
     "output_type": "stream",
     "text": [
      "/var/folders/12/w2wnyhpd1kz1tlsmlc91sdkr0000gn/T/ipykernel_78738/729232793.py:6: UserWarning: This pattern is interpreted as a regular expression, and has match groups. To actually get the groups, use str.extract.\n",
      "  crime_df = crime_df[~crime_df['Primary Type'].str.contains(pattern)]\n"
     ]
    }
   ],
   "source": [
    "#Remove non-crime rows\n",
    "import re\n",
    "\n",
    "pattern = re.compile(r'NON\\s*-\\s*CRIMINAL(\\s*\\(SUBJECT SPECIFIED\\))?')\n",
    "\n",
    "crime_df = crime_df[~crime_df['Primary Type'].str.contains(pattern)]\n"
   ]
  },
  {
   "cell_type": "code",
   "execution_count": 19,
   "metadata": {},
   "outputs": [],
   "source": [
    "location_counts = crime_df['Location Description'].value_counts()\n",
    "filtered_locations = location_counts[location_counts > 2000].index.tolist()\n",
    "crime_df = crime_df[crime_df['Location Description'].isin(filtered_locations)]"
   ]
  },
  {
   "cell_type": "code",
   "execution_count": 20,
   "metadata": {},
   "outputs": [],
   "source": [
    "des = crime_df['Description'].value_counts().head(25).index.tolist()\n",
    "crime_df = crime_df[crime_df['Description'].isin(des)]"
   ]
  },
  {
   "cell_type": "markdown",
   "metadata": {},
   "source": [
    "### Construct final data"
   ]
  },
  {
   "cell_type": "code",
   "execution_count": 21,
   "metadata": {},
   "outputs": [],
   "source": [
    "Restaurant = rest_unique[['ID', 'Latitude','Longitude', 'DBA Name','Address']]\n",
    "Inspection = rest_df[['ID','Inspection Date','Risk','Inspection Type','Results']]"
   ]
  },
  {
   "cell_type": "code",
   "execution_count": 22,
   "metadata": {},
   "outputs": [],
   "source": [
    "Restaurant = Restaurant.rename(columns={'DBA Name': 'Name'})\n",
    "Inspection = Inspection.rename(columns={'Inspection Date': 'Date','Inspection Type':'Type'})"
   ]
  },
  {
   "cell_type": "code",
   "execution_count": 23,
   "metadata": {},
   "outputs": [
    {
     "name": "stderr",
     "output_type": "stream",
     "text": [
      "/var/folders/12/w2wnyhpd1kz1tlsmlc91sdkr0000gn/T/ipykernel_78738/3779001436.py:1: UserWarning: Could not infer format, so each element will be parsed individually, falling back to `dateutil`. To ensure parsing is consistent and as-expected, please specify a format.\n",
      "  crime_df['Date'] = pd.to_datetime(crime_df['Date']).dt.strftime('%Y-%m-%d')\n"
     ]
    }
   ],
   "source": [
    "crime_df['Date'] = pd.to_datetime(crime_df['Date']).dt.strftime('%Y-%m-%d')"
   ]
  },
  {
   "cell_type": "code",
   "execution_count": 24,
   "metadata": {},
   "outputs": [],
   "source": [
    "Crime = crime_df[['ID','Date','Block','Primary Type','Arrest','Location Description','Description','Latitude','Longitude']]\n",
    "Crime_rank = crime_df[['Location Description','Arrest','Primary Type']]"
   ]
  },
  {
   "cell_type": "code",
   "execution_count": 25,
   "metadata": {},
   "outputs": [
    {
     "data": {
      "text/plain": [
       "(Index(['ID', 'Latitude', 'Longitude', 'Name', 'Address'], dtype='object'),\n",
       " Index(['ID', 'Date', 'Risk', 'Type', 'Results'], dtype='object'),\n",
       " Index(['ID', 'Date', 'Block', 'Primary Type', 'Arrest', 'Location Description',\n",
       "        'Description', 'Latitude', 'Longitude'],\n",
       "       dtype='object'),\n",
       " Index(['Location Description', 'Arrest', 'Primary Type'], dtype='object'))"
      ]
     },
     "execution_count": 25,
     "metadata": {},
     "output_type": "execute_result"
    }
   ],
   "source": [
    "Restaurant.columns, Inspection.columns, Crime.columns, Crime_rank.columns"
   ]
  },
  {
   "cell_type": "code",
   "execution_count": 26,
   "metadata": {},
   "outputs": [
    {
     "data": {
      "text/plain": [
       "Primary Type\n",
       "THEFT                  287059\n",
       "BATTERY                235903\n",
       "CRIMINAL DAMAGE        139695\n",
       "NARCOTICS               91373\n",
       "ASSAULT                 80885\n",
       "BURGLARY                75221\n",
       "MOTOR VEHICLE THEFT     50223\n",
       "OTHER OFFENSE           48573\n",
       "ROBBERY                 40362\n",
       "CRIMINAL TRESPASS       24425\n",
       "DECEPTIVE PRACTICE      14709\n",
       "WEAPONS VIOLATION       11910\n",
       "STALKING                  546\n",
       "CRIM SEXUAL ASSAULT       392\n",
       "Name: count, dtype: int64"
      ]
     },
     "execution_count": 26,
     "metadata": {},
     "output_type": "execute_result"
    }
   ],
   "source": [
    "crime_df['Primary Type'].value_counts()"
   ]
  },
  {
   "cell_type": "code",
   "execution_count": 27,
   "metadata": {},
   "outputs": [
    {
     "name": "stderr",
     "output_type": "stream",
     "text": [
      "/var/folders/12/w2wnyhpd1kz1tlsmlc91sdkr0000gn/T/ipykernel_78738/1564247053.py:1: SettingWithCopyWarning: \n",
      "A value is trying to be set on a copy of a slice from a DataFrame.\n",
      "Try using .loc[row_indexer,col_indexer] = value instead\n",
      "\n",
      "See the caveats in the documentation: https://pandas.pydata.org/pandas-docs/stable/user_guide/indexing.html#returning-a-view-versus-a-copy\n",
      "  Crime_rank['Location Description'] = Crime_rank['Location Description'].str.strip()\n",
      "/var/folders/12/w2wnyhpd1kz1tlsmlc91sdkr0000gn/T/ipykernel_78738/1564247053.py:3: SettingWithCopyWarning: \n",
      "A value is trying to be set on a copy of a slice from a DataFrame.\n",
      "Try using .loc[row_indexer,col_indexer] = value instead\n",
      "\n",
      "See the caveats in the documentation: https://pandas.pydata.org/pandas-docs/stable/user_guide/indexing.html#returning-a-view-versus-a-copy\n",
      "  Crime_rank['Location Description'] = Crime_rank['Location Description'].str.upper()\n",
      "/var/folders/12/w2wnyhpd1kz1tlsmlc91sdkr0000gn/T/ipykernel_78738/1564247053.py:5: SettingWithCopyWarning: \n",
      "A value is trying to be set on a copy of a slice from a DataFrame.\n",
      "Try using .loc[row_indexer,col_indexer] = value instead\n",
      "\n",
      "See the caveats in the documentation: https://pandas.pydata.org/pandas-docs/stable/user_guide/indexing.html#returning-a-view-versus-a-copy\n",
      "  Crime_rank['Location Description'] = Crime_rank['Location Description'].replace({\n",
      "/var/folders/12/w2wnyhpd1kz1tlsmlc91sdkr0000gn/T/ipykernel_78738/1564247053.py:12: SettingWithCopyWarning: \n",
      "A value is trying to be set on a copy of a slice from a DataFrame.\n",
      "Try using .loc[row_indexer,col_indexer] = value instead\n",
      "\n",
      "See the caveats in the documentation: https://pandas.pydata.org/pandas-docs/stable/user_guide/indexing.html#returning-a-view-versus-a-copy\n",
      "  Crime_rank['Location Description'] = Crime_rank['Location Description'].str.replace('/', '')\n"
     ]
    }
   ],
   "source": [
    "Crime_rank['Location Description'] = Crime_rank['Location Description'].str.strip()\n",
    "\n",
    "Crime_rank['Location Description'] = Crime_rank['Location Description'].str.upper()\n",
    "\n",
    "Crime_rank['Location Description'] = Crime_rank['Location Description'].replace({\n",
    "    'APT': 'APARTMENT',\n",
    "    'RES': 'RESIDENCE',\n",
    "    'STRT': 'STREET',\n",
    "    'SIDEWLK': 'SIDEWALK'\n",
    "})\n",
    "\n",
    "Crime_rank['Location Description'] = Crime_rank['Location Description'].str.replace('/', '')\n"
   ]
  },
  {
   "cell_type": "code",
   "execution_count": 28,
   "metadata": {},
   "outputs": [],
   "source": [
    "unique_locations = Crime_rank['Location Description'].unique()\n",
    "\n",
    "location_risk_scores = {\n",
    "    'STREET': 8,\n",
    "    'RESIDENCE': 4,\n",
    "    'APARTMENT': 5,\n",
    "    'SIDEWALK': 7,\n",
    "    'OTHER': 3,\n",
    "    'PARKING LOTGARAGE(NON.RESID.)': 6,\n",
    "    'RESIDENTIAL YARD (FRONTBACK)': 4,\n",
    "    'SMALL RETAIL STORE': 5,\n",
    "    'ALLEY': 7,\n",
    "    'RESIDENCE-GARAGE': 3,\n",
    "    'RESIDENCE PORCHHALLWAY': 5,\n",
    "    'RESTAURANT': 6,\n",
    "    'DEPARTMENT STORE': 4,\n",
    "    'VEHICLE NON-COMMERCIAL': 5,\n",
    "    'SCHOOL, PUBLIC, BUILDING': 2,\n",
    "    'GROCERY FOOD STORE': 4,\n",
    "    'GAS STATION': 6,\n",
    "    'PARK PROPERTY': 5,\n",
    "    'BAR OR TAVERN': 9,\n",
    "    'COMMERCIAL  BUSINESS OFFICE': 3,\n",
    "    'VACANT LOTLAND': 7,\n",
    "    'CONVENIENCE STORE': 6,\n",
    "    'HOTELMOTEL': 6,\n",
    "    'SCHOOL, PUBLIC, GROUNDS': 3,\n",
    "    'DRUG STORE': 4,\n",
    "    'CTA BUS': 7,\n",
    "    'CTA TRAIN': 7,\n",
    "    'HOSPITAL BUILDINGGROUNDS': 2,\n",
    "    'DRIVEWAY - RESIDENTIAL': 4,\n",
    "    'CHA APARTMENT': 5,\n",
    "    'ABANDONED BUILDING': 8,\n",
    "    'CHURCHSYNAGOGUEPLACE OF WORSHIP': 3,\n",
    "    'CTA PLATFORM': 7,\n",
    "    'ATHLETIC CLUB': 4,\n",
    "    'CTA BUS STOP': 7,\n",
    "    'CHA PARKING LOTGROUNDS': 5,\n",
    "    'NURSING HOMERETIREMENT HOME': 3,\n",
    "    'SCHOOL, PRIVATE, BUILDING': 2,\n",
    "    'TAVERNLIQUOR STORE': 9,\n",
    "    'GOVERNMENT BUILDINGPROPERTY': 3,\n",
    "    'CTA GARAGE  OTHER PROPERTY': 6,\n",
    "    'BANK': 3,\n",
    "    'TAXICAB': 7,\n",
    "    'POLICE FACILITYVEH PARKING LOT': 2,\n",
    "    'AIRPORT TERMINAL UPPER LEVEL - SECURE AREA': 4,\n",
    "    'ATM (AUTOMATIC TELLER MACHINE)': 6,\n",
    "    'CURRENCY EXCHANGE': 6\n",
    "}\n",
    "\n",
    "# Ensure all unique locations are covered\n",
    "missing_locations = set(unique_locations) - set(location_risk_scores.keys())\n",
    "for location in missing_locations:\n",
    "    # Assign a default risk score for any missing locations (assuming a moderate risk level)\n",
    "    location_risk_scores[location] = 5\n"
   ]
  },
  {
   "cell_type": "code",
   "execution_count": 29,
   "metadata": {},
   "outputs": [],
   "source": [
    "# For 'Arrest' we have only two categories: True and False\n",
    "arrest_scores = {\n",
    "    True: 9,\n",
    "    False: 4\n",
    "}\n",
    "\n",
    "# For 'Primary Type' let's first see what unique values we have\n",
    "unique_primary_types = Crime_rank['Primary Type'].unique()\n",
    "\n",
    "# Assigning hypothetical risk scores to each primary type\n",
    "# The actual scoring should be based on detailed crime data\n",
    "primary_type_scores = {}\n",
    "for primary_type in unique_primary_types:\n",
    "    # Assign scores based on perceived severity of the crime\n",
    "    if primary_type in ['MURDER', 'HOMICIDE']:\n",
    "        score = 10\n",
    "    elif primary_type in ['ROBBERY', 'CRIM SEXUAL ASSAULT']:\n",
    "        score = 9\n",
    "    elif primary_type in ['ASSAULT', 'BATTERY']:\n",
    "        score = 8\n",
    "    elif primary_type in ['WEAPONS VIOLATION', 'BURGLARY']:\n",
    "        score = 7\n",
    "    elif primary_type in ['MOTOR VEHICLE THEFT', 'CRIMINAL DAMAGE', 'NARCOTICS']:\n",
    "        score = 6\n",
    "    elif primary_type in ['DECEPTIVE PRACTICE', 'CRIMINAL TRESPASS']:\n",
    "        score = 5\n",
    "    elif primary_type in ['THEFT', 'OTHER OFFENSE']:\n",
    "        score = 4\n",
    "    elif primary_type in ['STALKING']:\n",
    "        score = 3\n",
    "    else:\n",
    "        score = 2  # Default score for less severe or miscellaneous crimes\n",
    "\n",
    "    primary_type_scores[primary_type] = score\n",
    "\n"
   ]
  },
  {
   "cell_type": "code",
   "execution_count": 30,
   "metadata": {},
   "outputs": [
    {
     "data": {
      "text/plain": [
       "array(['BATTERY', 'THEFT', 'WEAPONS VIOLATION', 'MOTOR VEHICLE THEFT',\n",
       "       'ASSAULT', 'CRIMINAL DAMAGE', 'OTHER OFFENSE',\n",
       "       'DECEPTIVE PRACTICE', 'ROBBERY', 'CRIMINAL TRESPASS', 'BURGLARY',\n",
       "       'STALKING', 'NARCOTICS', 'CRIM SEXUAL ASSAULT'], dtype=object)"
      ]
     },
     "execution_count": 30,
     "metadata": {},
     "output_type": "execute_result"
    }
   ],
   "source": [
    "unique_primary_types"
   ]
  },
  {
   "cell_type": "code",
   "execution_count": 31,
   "metadata": {},
   "outputs": [
    {
     "name": "stderr",
     "output_type": "stream",
     "text": [
      "/var/folders/12/w2wnyhpd1kz1tlsmlc91sdkr0000gn/T/ipykernel_78738/2095811557.py:4: SettingWithCopyWarning: \n",
      "A value is trying to be set on a copy of a slice from a DataFrame.\n",
      "Try using .loc[row_indexer,col_indexer] = value instead\n",
      "\n",
      "See the caveats in the documentation: https://pandas.pydata.org/pandas-docs/stable/user_guide/indexing.html#returning-a-view-versus-a-copy\n",
      "  Crime['Primary Type'] = Crime['Primary Type'].apply(lambda x: x if x in retain_types else 'OTHER')\n"
     ]
    }
   ],
   "source": [
    "retain_types = ['MURDER', 'HOMICIDE', 'ROBBERY', 'ASSAULT', 'BATTERY', 'THEFT', 'WEAPONS VIOLATION', \n",
    "                'MOTOR VEHICLE THEFT', 'CRIMINAL DAMAGE', 'OTHER OFFENSE', 'DECEPTIVE PRACTICE', \n",
    "                'CRIMINAL TRESPASS', 'BURGLARY', 'STALKING', 'NARCOTICS', 'CRIM SEXUAL ASSAULT']\n",
    "Crime['Primary Type'] = Crime['Primary Type'].apply(lambda x: x if x in retain_types else 'OTHER')"
   ]
  },
  {
   "cell_type": "code",
   "execution_count": 32,
   "metadata": {},
   "outputs": [
    {
     "name": "stderr",
     "output_type": "stream",
     "text": [
      "/var/folders/12/w2wnyhpd1kz1tlsmlc91sdkr0000gn/T/ipykernel_78738/1838199126.py:1: SettingWithCopyWarning: \n",
      "A value is trying to be set on a copy of a slice from a DataFrame.\n",
      "Try using .loc[row_indexer,col_indexer] = value instead\n",
      "\n",
      "See the caveats in the documentation: https://pandas.pydata.org/pandas-docs/stable/user_guide/indexing.html#returning-a-view-versus-a-copy\n",
      "  Crime['Location Description'] = Crime['Location Description'].str.replace('(', '', regex=False)\n",
      "/var/folders/12/w2wnyhpd1kz1tlsmlc91sdkr0000gn/T/ipykernel_78738/1838199126.py:2: SettingWithCopyWarning: \n",
      "A value is trying to be set on a copy of a slice from a DataFrame.\n",
      "Try using .loc[row_indexer,col_indexer] = value instead\n",
      "\n",
      "See the caveats in the documentation: https://pandas.pydata.org/pandas-docs/stable/user_guide/indexing.html#returning-a-view-versus-a-copy\n",
      "  Crime['Location Description'] = Crime['Location Description'].str.replace(')', '', regex=False)\n"
     ]
    }
   ],
   "source": [
    "Crime['Location Description'] = Crime['Location Description'].str.replace('(', '', regex=False)\n",
    "Crime['Location Description'] = Crime['Location Description'].str.replace(')', '', regex=False)"
   ]
  },
  {
   "cell_type": "code",
   "execution_count": 33,
   "metadata": {},
   "outputs": [
    {
     "data": {
      "text/html": [
       "<div>\n",
       "<style scoped>\n",
       "    .dataframe tbody tr th:only-of-type {\n",
       "        vertical-align: middle;\n",
       "    }\n",
       "\n",
       "    .dataframe tbody tr th {\n",
       "        vertical-align: top;\n",
       "    }\n",
       "\n",
       "    .dataframe thead th {\n",
       "        text-align: right;\n",
       "    }\n",
       "</style>\n",
       "<table border=\"1\" class=\"dataframe\">\n",
       "  <thead>\n",
       "    <tr style=\"text-align: right;\">\n",
       "      <th></th>\n",
       "      <th>Location Description</th>\n",
       "      <th>Arrest</th>\n",
       "      <th>Primary Type</th>\n",
       "      <th>Danger Score</th>\n",
       "    </tr>\n",
       "  </thead>\n",
       "  <tbody>\n",
       "    <tr>\n",
       "      <th>0</th>\n",
       "      <td>STREET</td>\n",
       "      <td>True</td>\n",
       "      <td>BATTERY</td>\n",
       "      <td>25</td>\n",
       "    </tr>\n",
       "    <tr>\n",
       "      <th>1</th>\n",
       "      <td>STREET</td>\n",
       "      <td>True</td>\n",
       "      <td>THEFT</td>\n",
       "      <td>21</td>\n",
       "    </tr>\n",
       "    <tr>\n",
       "      <th>2</th>\n",
       "      <td>STREET</td>\n",
       "      <td>True</td>\n",
       "      <td>WEAPONS VIOLATION</td>\n",
       "      <td>24</td>\n",
       "    </tr>\n",
       "    <tr>\n",
       "      <th>3</th>\n",
       "      <td>STREET</td>\n",
       "      <td>True</td>\n",
       "      <td>MOTOR VEHICLE THEFT</td>\n",
       "      <td>23</td>\n",
       "    </tr>\n",
       "    <tr>\n",
       "      <th>4</th>\n",
       "      <td>STREET</td>\n",
       "      <td>True</td>\n",
       "      <td>ASSAULT</td>\n",
       "      <td>25</td>\n",
       "    </tr>\n",
       "    <tr>\n",
       "      <th>...</th>\n",
       "      <td>...</td>\n",
       "      <td>...</td>\n",
       "      <td>...</td>\n",
       "      <td>...</td>\n",
       "    </tr>\n",
       "    <tr>\n",
       "      <th>1311</th>\n",
       "      <td>CURRENCY EXCHANGE</td>\n",
       "      <td>False</td>\n",
       "      <td>CRIMINAL TRESPASS</td>\n",
       "      <td>15</td>\n",
       "    </tr>\n",
       "    <tr>\n",
       "      <th>1312</th>\n",
       "      <td>CURRENCY EXCHANGE</td>\n",
       "      <td>False</td>\n",
       "      <td>BURGLARY</td>\n",
       "      <td>17</td>\n",
       "    </tr>\n",
       "    <tr>\n",
       "      <th>1313</th>\n",
       "      <td>CURRENCY EXCHANGE</td>\n",
       "      <td>False</td>\n",
       "      <td>STALKING</td>\n",
       "      <td>13</td>\n",
       "    </tr>\n",
       "    <tr>\n",
       "      <th>1314</th>\n",
       "      <td>CURRENCY EXCHANGE</td>\n",
       "      <td>False</td>\n",
       "      <td>NARCOTICS</td>\n",
       "      <td>16</td>\n",
       "    </tr>\n",
       "    <tr>\n",
       "      <th>1315</th>\n",
       "      <td>CURRENCY EXCHANGE</td>\n",
       "      <td>False</td>\n",
       "      <td>CRIM SEXUAL ASSAULT</td>\n",
       "      <td>19</td>\n",
       "    </tr>\n",
       "  </tbody>\n",
       "</table>\n",
       "<p>1316 rows × 4 columns</p>\n",
       "</div>"
      ],
      "text/plain": [
       "     Location Description  Arrest         Primary Type  Danger Score\n",
       "0                  STREET    True              BATTERY            25\n",
       "1                  STREET    True                THEFT            21\n",
       "2                  STREET    True    WEAPONS VIOLATION            24\n",
       "3                  STREET    True  MOTOR VEHICLE THEFT            23\n",
       "4                  STREET    True              ASSAULT            25\n",
       "...                   ...     ...                  ...           ...\n",
       "1311    CURRENCY EXCHANGE   False    CRIMINAL TRESPASS            15\n",
       "1312    CURRENCY EXCHANGE   False             BURGLARY            17\n",
       "1313    CURRENCY EXCHANGE   False             STALKING            13\n",
       "1314    CURRENCY EXCHANGE   False            NARCOTICS            16\n",
       "1315    CURRENCY EXCHANGE   False  CRIM SEXUAL ASSAULT            19\n",
       "\n",
       "[1316 rows x 4 columns]"
      ]
     },
     "execution_count": 33,
     "metadata": {},
     "output_type": "execute_result"
    }
   ],
   "source": [
    "import itertools\n",
    "\n",
    "# Generate all possible combinations of the scores\n",
    "combinations = list(itertools.product(\n",
    "    location_risk_scores.items(),\n",
    "    arrest_scores.items(),\n",
    "    primary_type_scores.items()\n",
    "))\n",
    "\n",
    "# Calculate the danger score for each combination\n",
    "combination_scores = []\n",
    "for combination in combinations:\n",
    "    location_score = combination[0][1]\n",
    "    arrest_score = combination[1][1]\n",
    "    primary_type_score = combination[2][1]\n",
    "    danger_score = location_score + arrest_score + primary_type_score\n",
    "    combination_scores.append({\n",
    "        'Location Description': combination[0][0],\n",
    "        'Arrest': combination[1][0],\n",
    "        'Primary Type': combination[2][0],\n",
    "        'Danger Score': danger_score\n",
    "    })\n",
    "\n",
    "# Create a new dataframe from the combination scores\n",
    "combination_df = pd.DataFrame(combination_scores)\n",
    "\n",
    "# Show the structure of the new dataframe\n",
    "combination_df\n"
   ]
  },
  {
   "cell_type": "code",
   "execution_count": 34,
   "metadata": {},
   "outputs": [],
   "source": [
    "combination_df['Location Description'] = combination_df['Location Description'].str.replace('(', '', regex=False)\n",
    "combination_df['Location Description'] = combination_df['Location Description'].str.replace(')', '', regex=False)"
   ]
  },
  {
   "cell_type": "code",
   "execution_count": 35,
   "metadata": {},
   "outputs": [
    {
     "data": {
      "text/plain": [
       "14"
      ]
     },
     "execution_count": 35,
     "metadata": {},
     "output_type": "execute_result"
    }
   ],
   "source": [
    "Crime['Primary Type'].value_counts().count()"
   ]
  },
  {
   "cell_type": "code",
   "execution_count": 36,
   "metadata": {},
   "outputs": [],
   "source": [
    "Crime = Crime.sample(frac=0.8, random_state=1)"
   ]
  },
  {
   "cell_type": "code",
   "execution_count": 37,
   "metadata": {},
   "outputs": [
    {
     "data": {
      "text/plain": [
       "(881021, 9)"
      ]
     },
     "execution_count": 37,
     "metadata": {},
     "output_type": "execute_result"
    }
   ],
   "source": [
    "Crime.shape"
   ]
  },
  {
   "cell_type": "code",
   "execution_count": 38,
   "metadata": {},
   "outputs": [],
   "source": [
    "#Restaurant.to_excel('Restaurant.xlsx', index=False)\n",
    "#Inspection.to_excel('Inspection.xlsx', index=False)\n",
    "Crime.to_excel('Crime.xlsx', index=False)\n",
    "combination_df.to_excel('Crime_rank.xlsx', index=False)"
   ]
  }
 ],
 "metadata": {
  "kernelspec": {
   "display_name": "Python 3",
   "language": "python",
   "name": "python3"
  },
  "language_info": {
   "codemirror_mode": {
    "name": "ipython",
    "version": 3
   },
   "file_extension": ".py",
   "mimetype": "text/x-python",
   "name": "python",
   "nbconvert_exporter": "python",
   "pygments_lexer": "ipython3",
   "version": "3.10.6"
  }
 },
 "nbformat": 4,
 "nbformat_minor": 2
}
